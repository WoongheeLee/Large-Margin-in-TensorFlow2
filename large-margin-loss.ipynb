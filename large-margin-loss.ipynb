{
 "cells": [
  {
   "cell_type": "code",
   "execution_count": 1,
   "metadata": {},
   "outputs": [],
   "source": [
    "import os\n",
    "os.environ['CUDA_VISIBLE_DEVICES'] = '0'\n",
    "import tensorflow as tf\n",
    "import numpy as np\n",
    "import IPython.display as ipd\n",
    "import time\n",
    "import matplotlib.pyplot as plt\n",
    "\n",
    "%matplotlib inline"
   ]
  },
  {
   "cell_type": "code",
   "execution_count": 2,
   "metadata": {},
   "outputs": [
    {
     "data": {
      "text/plain": [
       "'2.2.0'"
      ]
     },
     "execution_count": 2,
     "metadata": {},
     "output_type": "execute_result"
    }
   ],
   "source": [
    "tf.__version__"
   ]
  },
  {
   "cell_type": "code",
   "execution_count": 3,
   "metadata": {},
   "outputs": [],
   "source": [
    "BATCH_SIZE = 32\n",
    "EPOCHS = 30\n",
    "NB_CLASS = 10"
   ]
  },
  {
   "cell_type": "code",
   "execution_count": 4,
   "metadata": {},
   "outputs": [
    {
     "name": "stdout",
     "output_type": "stream",
     "text": [
      "(30000, 28, 28, 1) (30000,)\n",
      "(10000, 28, 28, 1) (10000,)\n"
     ]
    }
   ],
   "source": [
    "(X_train, y_train), (X_test, y_test) = tf.keras.datasets.mnist.load_data()\n",
    "\n",
    "X_train = np.expand_dims(np.array(X_train, dtype=np.float32), axis=-1)\n",
    "X_test = np.expand_dims(np.array(X_test, dtype=np.float32), axis=-1)\n",
    "\n",
    "X_train /= 255.\n",
    "X_test /= 255.\n",
    "\n",
    "np.random.seed(0)\n",
    "idx = np.random.randint(0, len(X_train), size=30000)\n",
    "X_train = X_train[idx]\n",
    "y_train = y_train[idx]\n",
    "\n",
    "print(X_train.shape, y_train.shape)\n",
    "print(X_test.shape, y_test.shape)"
   ]
  },
  {
   "cell_type": "code",
   "execution_count": 5,
   "metadata": {},
   "outputs": [],
   "source": [
    "traindataset = tf.data.Dataset.from_tensor_slices((X_train, y_train)).shuffle(len(X_train)).batch(BATCH_SIZE)\n",
    "testdataset = tf.data.Dataset.from_tensor_slices((X_test, y_test)).batch(BATCH_SIZE)"
   ]
  },
  {
   "cell_type": "code",
   "execution_count": 6,
   "metadata": {},
   "outputs": [],
   "source": [
    "from tensorflow.keras import models, layers, optimizers, losses, metrics"
   ]
  },
  {
   "cell_type": "code",
   "execution_count": 7,
   "metadata": {},
   "outputs": [],
   "source": [
    "class Classifier(models.Model):\n",
    "    def __init__(self):\n",
    "        super(Classifier, self).__init__()\n",
    "        self.c1 = layers.Conv2D(256, (3,3), activation=tf.nn.relu)\n",
    "        self.c2 = layers.Conv2D(256, (3,3), activation=tf.nn.relu)\n",
    "        self.c3 = layers.Conv2D(256, (3,3), activation=tf.nn.relu)\n",
    "        self.flatten = layers.Flatten()\n",
    "        self.latent = layers.Dense(4, activation=tf.nn.tanh)\n",
    "        self.dense = layers.Dense(10, activation=tf.nn.softmax)\n",
    "        \n",
    "    def call(self, inputs, training=False):\n",
    "        x = self.c1(inputs)\n",
    "        x = self.c2(x)\n",
    "        x = self.c3(x)\n",
    "        x = self.flatten(x)\n",
    "        x = self.latent(x)\n",
    "        x = self.dense(x)\n",
    "        return x\n",
    "    \n",
    "classifier = Classifier()"
   ]
  },
  {
   "cell_type": "code",
   "execution_count": 8,
   "metadata": {},
   "outputs": [],
   "source": [
    "loss_obj = losses.SparseCategoricalCrossentropy()\n",
    "acc_obj = metrics.SparseCategoricalAccuracy()\n",
    "opt = optimizers.RMSprop(1e-4)\n",
    "\n",
    "loss = metrics.Mean()\n",
    "acc = metrics.Mean()"
   ]
  },
  {
   "cell_type": "code",
   "execution_count": 9,
   "metadata": {},
   "outputs": [],
   "source": [
    "l2_distance = losses.MeanSquaredError()"
   ]
  },
  {
   "cell_type": "code",
   "execution_count": 10,
   "metadata": {},
   "outputs": [],
   "source": [
    "def large_margin(xk, _y):\n",
    "    _BATCH_SIZE = len(xk)\n",
    "    \n",
    "    # 정답 인덱싱 위한 것\n",
    "    yk = np.array(list(zip(np.arange(_BATCH_SIZE), _y)))\n",
    "    \n",
    "    # minimum distance gamma\n",
    "    _gamma = .5\n",
    "\n",
    "    # f_i (x_k)\n",
    "    _fi = list()\n",
    "\n",
    "    with tf.GradientTape(persistent=True) as tape:\n",
    "        tape.watch(xk)\n",
    "        fi = classifier(xk)\n",
    "\n",
    "        for i in range(NB_CLASS):\n",
    "            _fi.append(fi[:,i])\n",
    "        # f_{y_k} (x_k),  정답 인덱싱으로부터 정답 소프트맥스 값만으로 된 f_yk (xk) 만듦\n",
    "        fyk = tf.gather_nd(fi, yk)\n",
    "        fyk = tf.transpose(tf.cast([fyk for _ in range(NB_CLASS)], dtype=tf.float32))\n",
    "        \n",
    "    # 분자\n",
    "    numerator = fi - fyk\n",
    "\n",
    "    # 분모\n",
    "    Dfi = list()\n",
    "    for i in range(NB_CLASS):\n",
    "        # 기계적으로 계산하기 위해, 분자 0 안되도록 작은 수 더함\n",
    "        Dfi.append(tape.gradient(_fi[i], xk)+1e-15)\n",
    "    Dfi = tf.cast(Dfi, dtype=tf.float32)\n",
    "    Dfyk = tape.gradient(fyk, xk)\n",
    "\n",
    "    _loss = 0\n",
    "    for j in range(_BATCH_SIZE):\n",
    "        for i in range(NB_CLASS):\n",
    "            _loss += (_gamma + tf.math.maximum(0, (numerator[j,i]) / l2_distance(Dfi[i,j], Dfyk[j]))) \n",
    "            \n",
    "    return _loss\n",
    "\n",
    "def train_step(inputs):\n",
    "    xk, _y = inputs\n",
    "    \n",
    "    with tf.GradientTape() as tape:\n",
    "        pred = classifier(xk)\n",
    "        _loss = large_margin(xk, _y)\n",
    "        \n",
    "    grads = tape.gradient(_loss, classifier.trainable_variables)\n",
    "    opt.apply_gradients(list(zip(grads, classifier.trainable_variables)))\n",
    "    \n",
    "    loss.update_state(_loss)\n",
    "    acc.update_state(acc_obj(_y, pred))"
   ]
  },
  {
   "cell_type": "code",
   "execution_count": 11,
   "metadata": {},
   "outputs": [],
   "source": [
    "def test_step(inputs):\n",
    "    _X, _y = inputs\n",
    "    \n",
    "    pred = classifier(_X)\n",
    "    _loss = loss_obj(_y, pred)\n",
    "        \n",
    "    loss.update_state(_loss)\n",
    "    acc.update_state(acc_obj(_y, pred))"
   ]
  },
  {
   "cell_type": "code",
   "execution_count": null,
   "metadata": {},
   "outputs": [
    {
     "name": "stdout",
     "output_type": "stream",
     "text": [
      "200/938, 1/30, loss=60530.82812500, acc=51.65%, 1.01secs/batch, 206.17secs/epoch, 206.17secs\n"
     ]
    }
   ],
   "source": [
    "start_time = time.time()\n",
    "for e in range(EPOCHS):\n",
    "    epoch_time = time.time()\n",
    "    for i, x in enumerate(traindataset):\n",
    "        batch_time = time.time()\n",
    "        train_step(x)\n",
    "        ipd.clear_output(wait=True)\n",
    "        print(f\"{(i+1)}/{len(X_train)//BATCH_SIZE+1}, {e+1}/{EPOCHS}, loss={loss.result():.8f}, acc={100*acc.result():.2f}%, {time.time()-batch_time:.2f}secs/batch, {time.time()-epoch_time:.2f}secs/epoch, {time.time()-start_time:.2f}secs\")\n",
    "    loss.reset_states()\n",
    "    acc.reset_states()"
   ]
  },
  {
   "cell_type": "code",
   "execution_count": 20,
   "metadata": {},
   "outputs": [
    {
     "name": "stdout",
     "output_type": "stream",
     "text": [
      "acc=90.84%\n"
     ]
    }
   ],
   "source": [
    "for x in testdataset:\n",
    "    test_step(x)\n",
    "    \n",
    "print(f\"acc={100*acc.result():.2f}%\")\n",
    "loss.reset_states()\n",
    "acc.reset_states()"
   ]
  },
  {
   "cell_type": "code",
   "execution_count": 21,
   "metadata": {},
   "outputs": [],
   "source": [
    "def get_latent(x):\n",
    "    for l in classifier.layers[:-1]:\n",
    "        x = l(x)\n",
    "    return x"
   ]
  },
  {
   "cell_type": "code",
   "execution_count": 22,
   "metadata": {},
   "outputs": [
    {
     "name": "stdout",
     "output_type": "stream",
     "text": [
      "(10000, 4)\n"
     ]
    }
   ],
   "source": [
    "latent = []\n",
    "\n",
    "for s in range(0, len(X_test), BATCH_SIZE):\n",
    "    e = min(len(X_test), s+BATCH_SIZE)\n",
    "    _latent = get_latent(X_test[s:e])\n",
    "    latent.extend(_latent)\n",
    "    \n",
    "latent = np.array(latent)\n",
    "print(latent.shape)"
   ]
  },
  {
   "cell_type": "code",
   "execution_count": 23,
   "metadata": {},
   "outputs": [],
   "source": [
    "from sklearn.decomposition import PCA"
   ]
  },
  {
   "cell_type": "code",
   "execution_count": 24,
   "metadata": {},
   "outputs": [],
   "source": [
    "pca = PCA(n_components=2, random_state=0)"
   ]
  },
  {
   "cell_type": "code",
   "execution_count": 25,
   "metadata": {},
   "outputs": [],
   "source": [
    "latent2d = pca.fit_transform(latent)"
   ]
  },
  {
   "cell_type": "code",
   "execution_count": 26,
   "metadata": {},
   "outputs": [
    {
     "data": {
      "image/png": "[encoded data removed]",
      "text/plain": [
       "<matplotlib.figure.Figure at 0x7f8fa840ea90>"
      ]
     },
     "metadata": {
      "needs_background": "light"
     },
     "output_type": "display_data"
    }
   ],
   "source": [
    "plt.figure(figsize=(8,6))\n",
    "for i in range(10):\n",
    "    idx = np.where(y_test==i)\n",
    "    plt.scatter(latent2d[idx,0], latent2d[idx,1],label=str(i))\n",
    "plt.legend()\n",
    "plt.show()"
   ]
  },
  {
   "cell_type": "code",
   "execution_count": null,
   "metadata": {},
   "outputs": [],
   "source": []
  }
 ],
 "metadata": {
  "kernelspec": {
   "display_name": "Python 3",
   "language": "python",
   "name": "python3"
  },
  "language_info": {
   "codemirror_mode": {
    "name": "ipython",
    "version": 3
   },
   "file_extension": ".py",
   "mimetype": "text/x-python",
   "name": "python",
   "nbconvert_exporter": "python",
   "pygments_lexer": "ipython3",
   "version": "3.7.7"
  }
 },
 "nbformat": 4,
 "nbformat_minor": 4
}
